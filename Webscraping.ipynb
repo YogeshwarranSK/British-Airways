{
 "cells": [
  {
   "cell_type": "code",
   "execution_count": 33,
   "metadata": {},
   "outputs": [],
   "source": [
    "import os\n",
    "import requests\n",
    "import pandas as pd\n",
    "import matplotlib.pyplot as plt\n",
    "import seaborn as sns\n",
    "import nltk\n"
   ]
  },
  {
   "cell_type": "code",
   "execution_count": 34,
   "metadata": {},
   "outputs": [],
   "source": [
    "from bs4 import BeautifulSoup\n",
    "from wordcloud import WordCloud\n",
    "from textblob import TextBlob"
   ]
  },
  {
   "cell_type": "code",
   "execution_count": 35,
   "metadata": {},
   "outputs": [],
   "source": [
    "from nltk.corpus import stopwords\n",
    "from nltk.tokenize import word_tokenize"
   ]
  },
  {
   "cell_type": "code",
   "execution_count": 36,
   "metadata": {},
   "outputs": [],
   "source": [
    "# Create 'data' folder if it doesn't exist\n",
    "if not os.path.exists(\"data\"):\n",
    "    os.makedirs(\"data\")"
   ]
  },
  {
   "cell_type": "code",
   "execution_count": 37,
   "metadata": {},
   "outputs": [],
   "source": [
    "# Function to scrape Skytrax airline reviews\n",
    "def scrape_skytrax_reviews(airline_url, num_pages=5):\n",
    "    reviews = []\n",
    "    for page in range(1, num_pages + 1):\n",
    "        url = f\"{airline_url}/page/{page}/\"\n",
    "        response = requests.get(url)\n",
    "        if response.status_code != 200:\n",
    "            print(f\"Failed to retrieve page {page}\")\n",
    "            continue\n",
    "        soup = BeautifulSoup(response.text, 'html.parser')\n",
    "        review_blocks = soup.find_all('div', class_='body')\n",
    "        for block in review_blocks:\n",
    "            title = block.find('h2').text.strip() if block.find('h2') else \"\"\n",
    "            text = block.find('div', class_='text').text.strip() if block.find('div', class_='text') else \"\"\n",
    "            reviews.append([title, text])\n",
    "    return pd.DataFrame(reviews, columns=['Title', 'Review'])"
   ]
  },
  {
   "cell_type": "code",
   "execution_count": 38,
   "metadata": {},
   "outputs": [],
   "source": [
    "airline_url = \"https://www.airlinequality.com/\"\n",
    "df = scrape_skytrax_reviews(airline_url)\n",
    "df.to_csv(\"data/reviews.csv\", index=False)"
   ]
  },
  {
   "cell_type": "code",
   "execution_count": 39,
   "metadata": {},
   "outputs": [],
   "source": [
    "# Load data (if already scraped)\n",
    "df = pd.read_csv(\"data/reviews.csv\")"
   ]
  },
  {
   "cell_type": "code",
   "execution_count": 40,
   "metadata": {},
   "outputs": [
    {
     "name": "stderr",
     "output_type": "stream",
     "text": [
      "[nltk_data] Downloading package stopwords to\n",
      "[nltk_data]     C:\\Users\\yoges\\AppData\\Roaming\\nltk_data...\n",
      "[nltk_data]   Package stopwords is already up-to-date!\n",
      "[nltk_data] Downloading package punkt to\n",
      "[nltk_data]     C:\\Users\\yoges\\AppData\\Roaming\\nltk_data...\n",
      "[nltk_data]   Package punkt is already up-to-date!\n"
     ]
    },
    {
     "data": {
      "text/plain": [
       "True"
      ]
     },
     "execution_count": 40,
     "metadata": {},
     "output_type": "execute_result"
    }
   ],
   "source": [
    "# Ensure stopwords are downloaded\n",
    "nltk.download('stopwords')\n",
    "nltk.download('punkt')"
   ]
  },
  {
   "cell_type": "code",
   "execution_count": 41,
   "metadata": {},
   "outputs": [],
   "source": [
    "stop_words = set(stopwords.words('english'))"
   ]
  },
  {
   "cell_type": "code",
   "execution_count": 42,
   "metadata": {},
   "outputs": [],
   "source": [
    "# Text Cleaning Function\n",
    "def clean_text(text):\n",
    "    if isinstance(text, str):  # Check if the value is a string\n",
    "        text = text.lower()\n",
    "        tokens = word_tokenize(text)\n",
    "        tokens = [word for word in tokens if word.isalpha() and word not in stop_words]\n",
    "        return \" \".join(tokens)\n",
    "    return \"\"  # Return empty string for NaN values\n",
    "\n",
    "# Apply cleaning function\n",
    "df['Cleaned_Review'] = df['Review'].apply(clean_text)"
   ]
  },
  {
   "cell_type": "code",
   "execution_count": 43,
   "metadata": {},
   "outputs": [],
   "source": [
    "# Sentiment Analysis\n",
    "def get_sentiment(text):\n",
    "    return TextBlob(text).sentiment.polarity\n",
    "\n",
    "df['Sentiment'] = df['Cleaned_Review'].apply(get_sentiment)\n",
    "\n",
    "df['Sentiment_Label'] = df['Sentiment'].apply(lambda x: 'Positive' if x > 0 else ('Negative' if x < 0 else 'Neutral'))"
   ]
  },
  {
   "cell_type": "code",
   "execution_count": 45,
   "metadata": {},
   "outputs": [
    {
     "name": "stdout",
     "output_type": "stream",
     "text": [
      "No valid words found for WordCloud.\n"
     ]
    }
   ],
   "source": [
    "# Visualization: Sentiment Distribution\n",
    "text_data = \" \".join(df['Cleaned_Review'].dropna().values)\n",
    "if len(text_data.strip()) == 0:\n",
    "    print(\"No valid words found for WordCloud.\")\n",
    "else:\n",
    "    wordcloud = WordCloud(width=800, height=400, background_color='white').generate(text_data)\n",
    "    plt.figure(figsize=(10, 5))\n",
    "    plt.imshow(wordcloud, interpolation='bilinear')\n",
    "    plt.axis(\"off\")\n",
    "    plt.savefig(\"data/wordcloud.png\")\n",
    "    plt.show()\n",
    "\n",
    "\n"
   ]
  },
  {
   "cell_type": "code",
   "execution_count": 46,
   "metadata": {},
   "outputs": [
    {
     "name": "stderr",
     "output_type": "stream",
     "text": [
      "C:\\Users\\yoges\\AppData\\Local\\Temp\\ipykernel_17052\\1603097513.py:6: FutureWarning: \n",
      "\n",
      "Passing `palette` without assigning `hue` is deprecated and will be removed in v0.14.0. Assign the `x` variable to `hue` and set `legend=False` for the same effect.\n",
      "\n",
      "  sns.countplot(x=df['Sentiment_Label'], palette='coolwarm', order=['Positive', 'Neutral', 'Negative'])\n"
     ]
    },
    {
     "data": {
      "image/png": "[encoded data removed]",
      "text/plain": [
       "<Figure size 800x500 with 1 Axes>"
      ]
     },
     "metadata": {},
     "output_type": "display_data"
    }
   ],
   "source": [
    "# Ensure there are no NaN values in Sentiment_Label\n",
    "df['Sentiment_Label'] = df['Sentiment_Label'].fillna('Neutral')\n",
    "\n",
    "# Visualization: Sentiment Distribution\n",
    "plt.figure(figsize=(8, 5))\n",
    "sns.countplot(x=df['Sentiment_Label'], palette='coolwarm', order=['Positive', 'Neutral', 'Negative'])\n",
    "plt.title(\"Sentiment Distribution\")\n",
    "plt.xlabel(\"Sentiment\")\n",
    "plt.ylabel(\"Count\")\n",
    "plt.savefig(\"data/sentiment_distribution.png\")\n",
    "plt.show()\n"
   ]
  },
  {
   "cell_type": "code",
   "execution_count": 47,
   "metadata": {},
   "outputs": [
    {
     "name": "stdout",
     "output_type": "stream",
     "text": [
      "  Sentiment_Label Cleaned_Review\n",
      "0         Neutral               \n",
      "1         Neutral               \n",
      "2         Neutral               \n",
      "3         Neutral               \n",
      "4         Neutral               \n",
      "Sentiment_Label\n",
      "Neutral    105\n",
      "Name: count, dtype: int64\n"
     ]
    }
   ],
   "source": [
    "print(df[['Sentiment_Label', 'Cleaned_Review']].head())  # Quick check\n",
    "print(df['Sentiment_Label'].value_counts())  # Count sentiment categories\n"
   ]
  }
 ],
 "metadata": {
  "kernelspec": {
   "display_name": "base",
   "language": "python",
   "name": "python3"
  },
  "language_info": {
   "codemirror_mode": {
    "name": "ipython",
    "version": 3
   },
   "file_extension": ".py",
   "mimetype": "text/x-python",
   "name": "python",
   "nbconvert_exporter": "python",
   "pygments_lexer": "ipython3",
   "version": "3.12.8"
  }
 },
 "nbformat": 4,
 "nbformat_minor": 2
}
